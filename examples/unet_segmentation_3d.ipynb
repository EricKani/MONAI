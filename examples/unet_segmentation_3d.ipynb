{
 "cells": [
  {
   "cell_type": "code",
   "execution_count": 1,
   "metadata": {},
   "outputs": [
    {
     "name": "stdout",
     "output_type": "stream",
     "text": "MONAI version: 0.0.1\nPython version: 3.8.1 (default, Jan  8 2020, 22:29:32)  [GCC 7.3.0]\nNumpy version: 1.18.1\nPytorch version: 1.4.0\nIgnite version: 0.3.0\n"
    }
   ],
   "source": [
    "%matplotlib inline\n",
    "\n",
    "import os\n",
    "import sys\n",
    "import tempfile\n",
    "from glob import glob\n",
    "\n",
    "import torch\n",
    "import torch.nn as nn\n",
    "from torch.utils.data import DataLoader\n",
    "import monai.data.transforms.compose as transforms\n",
    "\n",
    "import numpy as np\n",
    "import matplotlib.pyplot as plt\n",
    "import nibabel as nib\n",
    "\n",
    "from ignite.engine import Events, create_supervised_trainer, create_supervised_evaluator\n",
    "from ignite.handlers import ModelCheckpoint, EarlyStopping\n",
    "\n",
    "# assumes the framework is found here, change as necessary\n",
    "sys.path.append(\"..\")\n",
    "\n",
    "from monai import application, data, networks, utils\n",
    "from monai.data.readers import NiftiDataset\n",
    "from monai.data.transforms import AddChannel, Transpose, Rescale, ToTensor, UniformRandomPatch, GridPatchDataset\n",
    "from monai.networks.metrics.mean_dice import MeanDice\n",
    "from monai.utils.stopperutils import stopping_fn_from_metric\n",
    "\n",
    "\n",
    "application.config.print_config()"
   ]
  },
  {
   "cell_type": "code",
   "execution_count": 2,
   "metadata": {},
   "outputs": [],
   "source": [
    "def create_test_image_3d(height, width, depth, numObjs=12, radMax=30, noiseMax=0.0, numSegClasses=5):\n",
    "    '''Return a noisy 3D image and segmentation.'''\n",
    "    image = np.zeros((width, height,depth))\n",
    "\n",
    "    for i in range(numObjs):\n",
    "        x = np.random.randint(radMax, width - radMax)\n",
    "        y = np.random.randint(radMax, height - radMax)\n",
    "        z = np.random.randint(radMax, depth - radMax)\n",
    "        rad = np.random.randint(5, radMax)\n",
    "        spy, spx, spz = np.ogrid[-x:width - x, -y:height - y, -z:depth - z]\n",
    "        circle = (spx * spx + spy * spy + spz * spz) <= rad * rad\n",
    "\n",
    "        if numSegClasses > 1:\n",
    "            image[circle] = np.ceil(np.random.random() * numSegClasses)\n",
    "        else:\n",
    "            image[circle] = np.random.random() * 0.5 + 0.5\n",
    "\n",
    "    labels = np.ceil(image).astype(np.int32)\n",
    "\n",
    "    norm = np.random.uniform(0, numSegClasses * noiseMax, size=image.shape)\n",
    "    noisyimage = utils.arrayutils.rescale_array(np.maximum(image, norm))\n",
    "\n",
    "    return noisyimage, labels"
   ]
  },
  {
   "cell_type": "code",
   "execution_count": 3,
   "metadata": {},
   "outputs": [],
   "source": [
    "tempdir = tempfile.mkdtemp()\n",
    "\n",
    "for i in range(50):\n",
    "    im, seg = create_test_image_3d(256,256,256)\n",
    "    \n",
    "    n = nib.Nifti1Image(im, np.eye(4))\n",
    "    nib.save(n, os.path.join(tempdir, 'im%i.nii.gz'%i))\n",
    "    \n",
    "    n = nib.Nifti1Image(seg, np.eye(4))\n",
    "    nib.save(n, os.path.join(tempdir, 'seg%i.nii.gz'%i))"
   ]
  },
  {
   "cell_type": "code",
   "execution_count": 4,
   "metadata": {},
   "outputs": [
    {
     "name": "stdout",
     "output_type": "stream",
     "text": "torch.Size([10, 1, 64, 64, 64]) torch.Size([10, 1, 64, 64, 64])\n"
    }
   ],
   "source": [
    "images = sorted(glob(os.path.join(tempdir,'im*.nii.gz')))\n",
    "segs = sorted(glob(os.path.join(tempdir,'seg*.nii.gz')))\n",
    "\n",
    "imtrans=transforms.Compose([\n",
    "    Rescale(),\n",
    "    AddChannel(),\n",
    "    UniformRandomPatch((64, 64, 64)),\n",
    "    ToTensor()\n",
    "])    \n",
    "\n",
    "segtrans=transforms.Compose([\n",
    "    AddChannel(),\n",
    "    UniformRandomPatch((64, 64, 64)),\n",
    "    ToTensor()\n",
    "])    \n",
    "    \n",
    "ds = NiftiDataset(images, segs, imtrans, segtrans)\n",
    "\n",
    "loader = DataLoader(ds, batch_size=10, num_workers=2, pin_memory=torch.cuda.is_available())\n",
    "im, seg = utils.mathutils.first(loader)\n",
    "print(im.shape, seg.shape)"
   ]
  },
  {
   "cell_type": "code",
   "execution_count": 5,
   "metadata": {},
   "outputs": [],
   "source": [
    "lr = 1e-3\n",
    "\n",
    "net = networks.nets.UNet(\n",
    "    dimensions=3,\n",
    "    in_channels=1,\n",
    "    num_classes=1,\n",
    "    channels=(16, 32, 64, 128, 256),\n",
    "    strides=(2, 2, 2, 2),\n",
    "    num_res_units=2,\n",
    ")\n",
    "\n",
    "loss = networks.losses.DiceLoss(do_sigmoid=True)\n",
    "opt = torch.optim.Adam(net.parameters(), lr)"
   ]
  },
  {
   "cell_type": "code",
   "execution_count": 6,
   "metadata": {},
   "outputs": [],
   "source": [
    "trainEpochs = 30\n",
    "\n",
    "loss_fn = lambda i, j: loss(i[0], j)\n",
    "device = torch.device(\"cuda:0\")\n",
    "\n",
    "trainer = create_supervised_trainer(net, opt, loss_fn, device, False)\n",
    "\n",
    "checkpoint_handler = ModelCheckpoint('./', 'net', n_saved=10, require_empty=False)\n",
    "trainer.add_event_handler(\n",
    "    event_name=Events.EPOCH_COMPLETED,\n",
    "    handler=checkpoint_handler,\n",
    "    to_save={'net': net}\n",
    ")\n",
    "\n",
    "@trainer.on(Events.EPOCH_COMPLETED)\n",
    "def log_training_loss(engine):\n",
    "    print(\"Epoch\", engine.state.epoch, \"Loss:\", engine.state.output)\n",
    "\n",
    "\n",
    "loader = DataLoader(ds, batch_size=20, num_workers=8, pin_memory=torch.cuda.is_available())\n",
    "val_loader = DataLoader(ds, batch_size=20, num_workers=8, pin_memory=torch.cuda.is_available())\n",
    "    \n"
   ]
  },
  {
   "cell_type": "code",
   "execution_count": 7,
   "metadata": {},
   "outputs": [],
   "source": [
    "validation_every_N_epochs = 1\n",
    "\n",
    "metrics = {'Mean Dice': MeanDice()}\n",
    "evaluator = create_supervised_evaluator(net, metrics, device, True,\n",
    "                                        output_transform=lambda x, y, y_pred: (y_pred[1], y))\n",
    "\n",
    "\n",
    "early_stopper = EarlyStopping(patience=4, \n",
    "                              score_function=stopping_fn_from_metric('Mean Dice'),\n",
    "                              trainer=trainer)\n",
    "evaluator.add_event_handler(event_name=Events.EPOCH_COMPLETED, handler=early_stopper)\n",
    "\n",
    "@evaluator.on(Events.EPOCH_COMPLETED)\n",
    "def print_metrics(engine):\n",
    "    for name, value in engine.state.metrics.items():\n",
    "        print(f\"{name}: {value}\")\n",
    "\n",
    "@trainer.on(Events.EPOCH_COMPLETED(every=validation_every_N_epochs))\n",
    "def run_validation(engine):\n",
    "    evaluator.run(val_loader)\n",
    "\n"
   ]
  },
  {
   "cell_type": "code",
   "execution_count": 8,
   "metadata": {},
   "outputs": [
    {
     "name": "stdout",
     "output_type": "stream",
     "text": "Epoch 1 Loss: 0.7907230257987976\nMean Dice: 0.13321990370750428\nEpoch 2 Loss: 0.912385106086731\nMean Dice: 0.1390095144510269\nEpoch 3 Loss: 0.8601841330528259\nMean Dice: 0.1327591508626938\nEpoch 4 Loss: 0.8087334632873535\nMean Dice: 0.13687533736228943\nEpoch 5 Loss: 0.9294923543930054\nMean Dice: 0.13983858823776246\nEpoch 6 Loss: 0.8575614094734192\nMean Dice: 0.13973902463912963\nEpoch 7 Loss: 0.7714702486991882\nMean Dice: 0.1399323374032974\nEpoch 8 Loss: 0.897472083568573\nMean Dice: 0.13747023940086364\nEpoch 9 Loss: 0.9935440421104431\nMean Dice: 0.1336931049823761\nEpoch 10 Loss: 0.7999455332756042\nMean Dice: 0.13065092861652375\nEpoch 11 Loss: 0.9553474187850952\nMean Dice: 0.13199653327465058\n"
    }
   ],
   "source": [
    "state = trainer.run(loader, trainEpochs)"
   ]
  }
 ],
 "metadata": {
  "kernelspec": {
   "display_name": "Python 3.7.5 64-bit ('pytorch': conda)",
   "language": "python",
   "name": "python37564bitpytorchconda9e7dd2186ac2430b947ee08d8eff35b4"
  },
  "language_info": {
   "codemirror_mode": {
    "name": "ipython",
    "version": 3
   },
   "file_extension": ".py",
   "mimetype": "text/x-python",
   "name": "python",
   "nbconvert_exporter": "python",
   "pygments_lexer": "ipython3",
   "version": "3.8.1-final"
  }
 },
 "nbformat": 4,
 "nbformat_minor": 4
}